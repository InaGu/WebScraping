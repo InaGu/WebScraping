{
  "nbformat": 4,
  "nbformat_minor": 0,
  "metadata": {
    "colab": {
      "name": "pdfWebScraping.ipynb",
      "provenance": [],
      "mount_file_id": "1wEGPKsSgGYqcSLIh7tXr4ZuXkYvqxtPh",
      "authorship_tag": "ABX9TyPrVwSOEUzLyDHpOLkOBad1",
      "include_colab_link": true
    },
    "kernelspec": {
      "name": "python3",
      "display_name": "Python 3"
    }
  },
  "cells": [
    {
      "cell_type": "markdown",
      "metadata": {
        "id": "view-in-github",
        "colab_type": "text"
      },
      "source": [
        "<a href=\"https://colab.research.google.com/github/InaGu/WebScraping/blob/master/pdfWebScraping.ipynb\" target=\"_parent\"><img src=\"https://colab.research.google.com/assets/colab-badge.svg\" alt=\"Open In Colab\"/></a>"
      ]
    },
    {
      "cell_type": "code",
      "metadata": {
        "id": "Z1sEnbX1emv7",
        "colab_type": "code",
        "colab": {}
      },
      "source": [
        "from bs4 import BeautifulSoup\n",
        "import urllib.request\n",
        "import os \n",
        "\n",
        "URL = \"http://www.mwhitelab.com/archives/512\"\n",
        "page = urllib.request.urlopen(URL)\n",
        "print(page)"
      ],
      "execution_count": 0,
      "outputs": []
    },
    {
      "cell_type": "code",
      "metadata": {
        "id": "uvB7TQgQhTCX",
        "colab_type": "code",
        "colab": {}
      },
      "source": [
        "soup = BeautifulSoup(page,\"html.parser\")\n",
        "print(soup)"
      ],
      "execution_count": 0,
      "outputs": []
    },
    {
      "cell_type": "code",
      "metadata": {
        "id": "QP9zLwx6h1pH",
        "colab_type": "code",
        "colab": {}
      },
      "source": [
        "for link in soup.findAll('a'):\n",
        "  theLink = link.get('href')\n",
        "  name = link.string\n",
        "  print(theLink)\n",
        "  print(name)"
      ],
      "execution_count": 0,
      "outputs": []
    },
    {
      "cell_type": "code",
      "metadata": {
        "id": "q14bnYM5ivF7",
        "colab_type": "code",
        "outputId": "8fe2844e-6c79-4696-bca9-6e70c9619036",
        "colab": {
          "base_uri": "https://localhost:8080/",
          "height": 89
        }
      },
      "source": [
        "for link in soup.findAll('a'):\n",
        "  theLink = link.get('href')\n",
        "  name = link.string\n",
        "\n",
        "  if theLink[-4:] == \".doc\" or theLink[-4:] == \".pdf\":\n",
        "    if theLink[-4:] == \".doc\":\n",
        "      fileExtension = \".doc\"\n",
        "      if name is None:\n",
        "        title = \"This is None\"+ fileExtension\n",
        "      else:\n",
        "        title = name+fileExtension\n",
        "      try:\n",
        "        with open(os.getcwd()+\"/drive/My Drive/\"+title,\"r\")as fileExists:\n",
        "          print(title +\"exists\")\n",
        "          fileExists.close()\n",
        "      except FileNotFoundError:\n",
        "        print(\"Download Started: \"+title)\n",
        "        docFile = open(os.getcwd()+\"/drive/My Drive/\"+title,\"wb\")\n",
        "        docFile.write(urllib.request.urlopen(theLink).read())\n",
        "        docFile.close()\n",
        "        print(\"Success!\")\n",
        "    if theLink[-4:] == \".pdf\":\n",
        "      fileExtension = \".pdf\"\n",
        "      if name is None:\n",
        "        title = \"This is None\"+ fileExtension\n",
        "      else:\n",
        "        title = name+fileExtension\n",
        "      try:\n",
        "        with open(os.getcwd()+\"/drive/My Drive/\"+title,\"r\")as fileExists:\n",
        "          print(title +\"exists\")\n",
        "          fileExists.close()\n",
        "      except FileNotFoundError:\n",
        "        print(\"Download Started: \"+title)\n",
        "        docFile = open(os.getcwd()+\"/drive/My Drive/\"+title,\"wb\")\n",
        "        docFile.write(urllib.request.urlopen(theLink).read())\n",
        "        docFile.close()\n",
        "        print(\"Success!\")\n",
        "    \n",
        " \n",
        "      "
      ],
      "execution_count": 0,
      "outputs": [
        {
          "output_type": "stream",
          "text": [
            "Download Started: Deep Speech: Scaling up end-to-end speech recognition .pdf\n",
            "Success!\n",
            "Download Started: Convolutional Neural Networks for Sentence Classification .pdf\n",
            "Success!\n"
          ],
          "name": "stdout"
        }
      ]
    },
    {
      "cell_type": "code",
      "metadata": {
        "id": "JQGsPYXvpUlv",
        "colab_type": "code",
        "colab": {}
      },
      "source": [
        "!zip -r /content/download.zip /content/drive"
      ],
      "execution_count": 0,
      "outputs": []
    }
  ]
}