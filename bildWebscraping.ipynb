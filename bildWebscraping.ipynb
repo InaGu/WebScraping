{
  "nbformat": 4,
  "nbformat_minor": 0,
  "metadata": {
    "colab": {
      "name": "bildWebscraping.ipynb",
      "provenance": [],
      "authorship_tag": "ABX9TyMDQjajUBkZ6hAlk7dPUgUi",
      "include_colab_link": true
    },
    "kernelspec": {
      "name": "python3",
      "display_name": "Python 3"
    }
  },
  "cells": [
    {
      "cell_type": "markdown",
      "metadata": {
        "id": "view-in-github",
        "colab_type": "text"
      },
      "source": [
        "<a href=\"https://colab.research.google.com/github/InaGu/WebScraping/blob/master/bildWebscraping.ipynb\" target=\"_parent\"><img src=\"https://colab.research.google.com/assets/colab-badge.svg\" alt=\"Open In Colab\"/></a>"
      ]
    },
    {
      "cell_type": "code",
      "metadata": {
        "id": "GoEaPV1C_M7x",
        "colab_type": "code",
        "colab": {}
      },
      "source": [
        "import bs4\n",
        "import requests\n",
        "from bs4 import BeautifulSoup\n",
        "import urllib.request\n",
        "\n",
        "r=requests.get('https://www.google.com/search?q=Audi+A8&sxsrf=ALeKk03es2cNickAjQ5t-yEB5lZLzaw9hw:1589035696820&source=lnms&tbm=isch&sa=X&ved=2ahUKEwiq4fmhg6fpAhVbURUIHS1pDGgQ_AUoAXoECB4QAw&biw=1536&bih=722')\n",
        "i = 1\n",
        "soup=bs4.BeautifulSoup(r.text, \"html.parser\")\n",
        "for img in soup.find_all('img'):\n",
        "  image = str(img.get('src'))\n",
        "  if image[:1] == \"h\":\n",
        "  \n",
        "    name = str(i)\n",
        "    i=i+1\n",
        "    imagefile = open(name+\".jpeg\",'wb')\n",
        "    imagefile.write(urllib.request.urlopen(image).read())\n",
        "    imagefile.close()\n",
        "\n",
        " \n",
        "\n",
        "\n",
        "\n"
      ],
      "execution_count": 0,
      "outputs": []
    }
  ]
}